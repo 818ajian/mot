{
  "nbformat": 4,
  "nbformat_minor": 0,
  "metadata": {
    "colab": {
      "name": "dataset_wrapper.ipynb",
      "provenance": [],
      "collapsed_sections": [],
      "toc_visible": true
    },
    "kernelspec": {
      "name": "python3",
      "display_name": "Python 3"
    },
    "accelerator": "GPU"
  },
  "cells": [
    {
      "cell_type": "markdown",
      "metadata": {
        "id": "SUo-P6BNJ5ES",
        "colab_type": "text"
      },
      "source": [
        "# Launch object detection *training*\n",
        "\n",
        "## Installation\n",
        "\n",
        "You should select a runtime with GPU first: (Runtime -> Change Runtime Type = GPU)"
      ]
    },
    {
      "cell_type": "code",
      "metadata": {
        "id": "mo3EiovnFvye",
        "colab_type": "code",
        "colab": {}
      },
      "source": [
        "!apt-get install libsm6 libxext6 libxrender-dev libcap-dev ffmpeg\n",
        "!pip install --upgrade git+https://github.com/surfriderfoundationeurope/mot.git\n",
        "!pip install git+https://github.com/cocodataset/cocoapi.git#subdirectory=PythonAPI"
      ],
      "execution_count": 0,
      "outputs": []
    },
    {
      "cell_type": "markdown",
      "metadata": {
        "id": "oe_tvYuwNult",
        "colab_type": "text"
      },
      "source": [
        "## Training"
      ]
    },
    {
      "cell_type": "markdown",
      "metadata": {
        "id": "YgpwxyWZPQvu",
        "colab_type": "text"
      },
      "source": [
        "### Downloading dataset"
      ]
    },
    {
      "cell_type": "code",
      "metadata": {
        "id": "hQbnsrtDPQGh",
        "colab_type": "code",
        "colab": {}
      },
      "source": [
        "import wget\n",
        "from zipfile import ZipFile\n",
        "\n",
        "wget.download(\"http://files.heuritech.com/raw_files/dataset_surfrider_cleaned.zip\", \".\")\n",
        "\n",
        "with ZipFile('dataset_surfrider_cleaned.zip', 'r') as zipObj:\n",
        "     zipObj.extractall()"
      ],
      "execution_count": 0,
      "outputs": []
    },
    {
      "cell_type": "markdown",
      "metadata": {
        "id": "zcZLBxJz0Qu9",
        "colab_type": "text"
      },
      "source": [
        "### Download pretrained weights on ImageNet"
      ]
    },
    {
      "cell_type": "code",
      "metadata": {
        "id": "tSQahaeC0T_d",
        "colab_type": "code",
        "colab": {}
      },
      "source": [
        "wget.download(\"http://models.tensorpack.com/FasterRCNN/COCO-MaskRCNN-R50FPN2x.npz\", \".\")"
      ],
      "execution_count": 0,
      "outputs": []
    },
    {
      "cell_type": "markdown",
      "metadata": {
        "id": "rR-D8zghz9r4",
        "colab_type": "text"
      },
      "source": [
        "### Launch the training\n",
        "\n",
        "See this [file](https://github.com/surfriderfoundationeurope/mot/blob/master/src/mot/object_detection/README.md) to choose the architecture you want and the according pre trained weights. The weights downloaded above correspond to ResNet50-FPN with 2X scheduling.  \n",
        "Since we are not interested in segmentation, we set MODE_MASK=False"
      ]
    },
    {
      "cell_type": "code",
      "metadata": {
        "id": "N2OO1A253B0y",
        "colab_type": "code",
        "colab": {}
      },
      "source": [
        "!git clone https://github.com/surfriderfoundationeurope/mot.git"
      ],
      "execution_count": 0,
      "outputs": []
    },
    {
      "cell_type": "code",
      "metadata": {
        "id": "Bcr5VKIh9KGc",
        "colab_type": "code",
        "colab": {}
      },
      "source": [
        "import sys\n",
        "\n",
        "sys.path.append(\"mot/src\")"
      ],
      "execution_count": 0,
      "outputs": []
    },
    {
      "cell_type": "code",
      "metadata": {
        "id": "PvNO6o9Yz8DS",
        "colab_type": "code",
        "colab": {}
      },
      "source": [
        "!python3 mot/src/mot/object_detection/train.py --load COCO-MaskRCNN-R50FPN2x.npz --logdir model --config DATA.BASEDIR=dataset_surfrider_cleaned MODE_MASK=False"
      ],
      "execution_count": 0,
      "outputs": []
    },
    {
      "cell_type": "markdown",
      "metadata": {
        "id": "QF5vBT516yy2",
        "colab_type": "text"
      },
      "source": [
        "## Visualize dataset"
      ]
    },
    {
      "cell_type": "code",
      "metadata": {
        "id": "lzNirNLYJyoJ",
        "colab_type": "code",
        "colab": {}
      },
      "source": [
        "from mot.object_detection.viz import draw_annotation\n",
        "from mot.object_detection.dataset.mot import MotDataset\n",
        "from mot.object_detection.dataset import register_mot\n",
        "from mot.object_detection.config import finalize_configs\n",
        "from mot.object_detection.config import config as cfg\n",
        "\n",
        "\n",
        "cfg.DATA.BASEDIR = \"dataset_surfrider_cleaned\"\n",
        "register_mot(cfg.DATA.BASEDIR)\n",
        "finalize_configs(is_training=False)"
      ],
      "execution_count": 0,
      "outputs": []
    },
    {
      "cell_type": "code",
      "metadata": {
        "id": "jBpDpD5XTwqG",
        "colab_type": "code",
        "colab": {}
      },
      "source": [
        "dataset = MotDataset(base_dir=\"dataset_surfrider_cleaned/\", split=\"val\")\n",
        "roids = dataset.training_roidbs()"
      ],
      "execution_count": 0,
      "outputs": []
    },
    {
      "cell_type": "code",
      "metadata": {
        "id": "kAqsSqnUUd97",
        "colab_type": "code",
        "colab": {}
      },
      "source": [
        "from google.colab.patches import cv2_imshow\n",
        "import cv2\n",
        "for r in dataset.training_roidbs():\n",
        "    im = cv2.imread(r[\"file_name\"])\n",
        "    vis = draw_annotation(im, r[\"boxes\"], r[\"class\"])\n",
        "    cv2_imshow(vis)"
      ],
      "execution_count": 0,
      "outputs": []
    }
  ]
}