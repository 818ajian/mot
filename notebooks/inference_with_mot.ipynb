{
  "nbformat": 4,
  "nbformat_minor": 0,
  "metadata": {
    "colab": {
      "name": "inference_with_mot.ipynb",
      "provenance": [],
      "collapsed_sections": [],
      "toc_visible": true
    },
    "kernelspec": {
      "name": "python3",
      "display_name": "Python 3"
    },
    "accelerator": "GPU"
  },
  "cells": [
    {
      "cell_type": "markdown",
      "metadata": {
        "id": "SUo-P6BNJ5ES",
        "colab_type": "text"
      },
      "source": [
        "# Object detection with MOT\n",
        "\n",
        "## Installation\n",
        "\n",
        "You should select a runtime with GPU first: (Runtime -> Change Runtime Type = GPU)"
      ]
    },
    {
      "cell_type": "code",
      "metadata": {
        "id": "mo3EiovnFvye",
        "colab_type": "code",
        "colab": {}
      },
      "source": [
        "!apt-get install libsm6 libxext6 libxrender-dev libcap-dev ffmpeg\n",
        "!pip install --upgrade git+https://github.com/surfriderfoundationeurope/mot.git@master\n",
        "!pip install git+https://github.com/cocodataset/cocoapi.git#subdirectory=PythonAPI"
      ],
      "execution_count": 0,
      "outputs": []
    },
    {
      "cell_type": "markdown",
      "metadata": {
        "id": "tROTYPSZMd3L",
        "colab_type": "text"
      },
      "source": [
        "## Run an inference from a pre-trained model"
      ]
    },
    {
      "cell_type": "code",
      "metadata": {
        "id": "Vd3L8VROJno_",
        "colab_type": "code",
        "colab": {}
      },
      "source": [
        "!wget http://models.tensorpack.com/FasterRCNN/COCO-MaskRCNN-R50FPN2x.npz\n",
        "!wget https://jardinage.lemonde.fr/images/dossiers/2019-10/chien-091431.jpg"
      ],
      "execution_count": 0,
      "outputs": []
    },
    {
      "cell_type": "code",
      "metadata": {
        "id": "NwFELTzFRHRc",
        "colab_type": "code",
        "colab": {}
      },
      "source": [
        " !python3 -m mot.object_detection.predict --load ./COCO-MaskRCNN-R50FPN2x.npz --predict ./chien-091431.jpg"
      ],
      "execution_count": 0,
      "outputs": []
    },
    {
      "cell_type": "code",
      "metadata": {
        "id": "CEW66bkP_oiW",
        "colab_type": "code",
        "colab": {}
      },
      "source": [
        "from IPython.display import Image\n",
        "Image('output.png')"
      ],
      "execution_count": 0,
      "outputs": []
    }
  ]
}
